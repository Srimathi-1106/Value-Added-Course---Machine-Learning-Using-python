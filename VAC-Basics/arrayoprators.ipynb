{
 "cells": [
  {
   "cell_type": "code",
   "execution_count": 1,
   "id": "2285f0a2-dcda-41c5-9e47-f598513d6997",
   "metadata": {
    "tags": []
   },
   "outputs": [],
   "source": [
    "import numpy as np\n"
   ]
  },
  {
   "cell_type": "code",
   "execution_count": 2,
   "id": "f85e951c-5b19-44a9-a84a-639795129705",
   "metadata": {
    "tags": []
   },
   "outputs": [],
   "source": [
    "b=np.random.random((3,3))"
   ]
  },
  {
   "cell_type": "code",
   "execution_count": 3,
   "id": "7d28ff46-11f0-44ba-95a0-22a8e98dc12a",
   "metadata": {
    "tags": []
   },
   "outputs": [],
   "source": [
    "c=np.random.random((3,3))"
   ]
  },
  {
   "cell_type": "code",
   "execution_count": 5,
   "id": "09fba549-7a80-4015-a904-d96d2155662d",
   "metadata": {
    "tags": []
   },
   "outputs": [
    {
     "data": {
      "text/plain": [
       "array([[0.87227083, 0.74974511, 0.14160162],\n",
       "       [0.41995695, 0.48455187, 0.77442247],\n",
       "       [0.57593997, 0.11681352, 0.30748523]])"
      ]
     },
     "execution_count": 5,
     "metadata": {},
     "output_type": "execute_result"
    }
   ],
   "source": [
    "b"
   ]
  },
  {
   "cell_type": "code",
   "execution_count": 6,
   "id": "e3931c52-1186-4749-b5f2-28dbfeb06438",
   "metadata": {
    "tags": []
   },
   "outputs": [
    {
     "data": {
      "text/plain": [
       "array([[0.16666364, 0.77121158, 0.51949397],\n",
       "       [0.27964072, 0.26520646, 0.55229192],\n",
       "       [0.35385996, 0.05144898, 0.73199812]])"
      ]
     },
     "execution_count": 6,
     "metadata": {},
     "output_type": "execute_result"
    }
   ],
   "source": [
    "c"
   ]
  },
  {
   "cell_type": "code",
   "execution_count": 7,
   "id": "e8b0780d-b906-4742-8523-e6a35d397121",
   "metadata": {
    "tags": []
   },
   "outputs": [
    {
     "data": {
      "text/plain": [
       "array([[1.03893446, 1.52095669, 0.66109558],\n",
       "       [0.69959767, 0.74975833, 1.32671439],\n",
       "       [0.92979993, 0.1682625 , 1.03948335]])"
      ]
     },
     "execution_count": 7,
     "metadata": {},
     "output_type": "execute_result"
    }
   ],
   "source": [
    "b + c"
   ]
  },
  {
   "cell_type": "code",
   "execution_count": 8,
   "id": "ec5dbacb-01af-4c6b-a5ce-0c243776a572",
   "metadata": {
    "tags": []
   },
   "outputs": [
    {
     "data": {
      "text/plain": [
       "array([[ 0.70560719, -0.02146648, -0.37789235],\n",
       "       [ 0.14031624,  0.21934541,  0.22213055],\n",
       "       [ 0.22208001,  0.06536454, -0.42451288]])"
      ]
     },
     "execution_count": 8,
     "metadata": {},
     "output_type": "execute_result"
    }
   ],
   "source": [
    "b -c"
   ]
  },
  {
   "cell_type": "code",
   "execution_count": 9,
   "id": "1227c281-91b1-4527-8ab3-4840c7537571",
   "metadata": {
    "tags": []
   },
   "outputs": [
    {
     "data": {
      "text/plain": [
       "array([[0.14537583, 0.57821211, 0.07356119],\n",
       "       [0.11743706, 0.12850629, 0.42770727],\n",
       "       [0.20380209, 0.00600994, 0.22507861]])"
      ]
     },
     "execution_count": 9,
     "metadata": {},
     "output_type": "execute_result"
    }
   ],
   "source": [
    "b*c"
   ]
  },
  {
   "cell_type": "code",
   "execution_count": 10,
   "id": "999af1ad-db64-4c70-b4ca-8fab2f41b64d",
   "metadata": {
    "tags": []
   },
   "outputs": [
    {
     "data": {
      "text/plain": [
       "array([[5.23372012, 0.97216525, 0.27257606],\n",
       "       [1.50177328, 1.82707414, 1.40219772],\n",
       "       [1.62759293, 2.27047301, 0.42006287]])"
      ]
     },
     "execution_count": 10,
     "metadata": {},
     "output_type": "execute_result"
    }
   ],
   "source": [
    "b/c"
   ]
  },
  {
   "cell_type": "code",
   "execution_count": 11,
   "id": "c95d3bf4-f0bb-4fec-9a2b-d20106fc69de",
   "metadata": {
    "tags": []
   },
   "outputs": [
    {
     "data": {
      "text/plain": [
       "array([[0.03895265, 0.74974511, 0.14160162],\n",
       "       [0.14031624, 0.21934541, 0.22213055],\n",
       "       [0.22208001, 0.01391556, 0.30748523]])"
      ]
     },
     "execution_count": 11,
     "metadata": {},
     "output_type": "execute_result"
    }
   ],
   "source": [
    "b%c"
   ]
  },
  {
   "cell_type": "code",
   "execution_count": 14,
   "id": "de32a07a-eb26-4120-9b4e-4353e20568d9",
   "metadata": {
    "tags": []
   },
   "outputs": [
    {
     "data": {
      "text/plain": [
       "array([[229.57461416,   1.51424695,   3.59962011],\n",
       "       [  3.82035462,   3.14640298,   1.43108735],\n",
       "       [  1.37211786,  15.04030777,   7.59101653]])"
      ]
     },
     "execution_count": 14,
     "metadata": {},
     "output_type": "execute_result"
    }
   ],
   "source": [
    "1/c"
   ]
  },
  {
   "cell_type": "code",
   "execution_count": 12,
   "id": "a7b6d8f1-c232-4bfd-be0b-d66cb061934e",
   "metadata": {
    "tags": []
   },
   "outputs": [
    {
     "data": {
      "text/plain": [
       "array([[ 2.29286586,  2.66757327, 14.12413244],\n",
       "       [ 4.76239286,  4.1275251 ,  2.58256969],\n",
       "       [ 3.47258415, 17.12130625,  6.50437742]])"
      ]
     },
     "execution_count": 12,
     "metadata": {},
     "output_type": "execute_result"
    }
   ],
   "source": [
    "2/b"
   ]
  },
  {
   "cell_type": "code",
   "execution_count": 14,
   "id": "3f12718d-1f89-4d21-b850-d1759bd1ffe2",
   "metadata": {
    "tags": []
   },
   "outputs": [],
   "source": [
    "b += c #b=b+c"
   ]
  },
  {
   "cell_type": "code",
   "execution_count": 17,
   "id": "27ff1012-ca49-4cab-a014-d33005c068b9",
   "metadata": {
    "tags": []
   },
   "outputs": [
    {
     "data": {
      "text/plain": [
       "array([[1.2055981 , 2.29216828, 1.18058955],\n",
       "       [0.97923839, 1.01496479, 1.87900631],\n",
       "       [1.28365989, 0.21971147, 1.77148146]])"
      ]
     },
     "execution_count": 17,
     "metadata": {},
     "output_type": "execute_result"
    }
   ],
   "source": [
    "b"
   ]
  },
  {
   "cell_type": "code",
   "execution_count": 18,
   "id": "3b8e6de1-17d0-4059-85ca-d2ae55fe4ae2",
   "metadata": {
    "tags": []
   },
   "outputs": [
    {
     "data": {
      "text/plain": [
       "array([[1.45346678, 5.2540354 , 1.39379169],\n",
       "       [0.95890782, 1.03015353, 3.53066471],\n",
       "       [1.64778271, 0.04827313, 3.13814657]])"
      ]
     },
     "execution_count": 18,
     "metadata": {},
     "output_type": "execute_result"
    }
   ],
   "source": [
    " b**2"
   ]
  },
  {
   "cell_type": "code",
   "execution_count": 21,
   "id": "1d4dba0d-a6e7-4e96-9743-420067aaca95",
   "metadata": {
    "tags": []
   },
   "outputs": [
    {
     "data": {
      "text/plain": [
       "0.2758617313096681"
      ]
     },
     "execution_count": 21,
     "metadata": {},
     "output_type": "execute_result"
    }
   ],
   "source": [
    "0.52522541 *0.52522541"
   ]
  },
  {
   "cell_type": "code",
   "execution_count": 19,
   "id": "a7b23701-880d-43b0-ad50-2666d515905b",
   "metadata": {},
   "outputs": [
    {
     "data": {
      "text/plain": [
       "2.1125656805635686"
      ]
     },
     "execution_count": 19,
     "metadata": {},
     "output_type": "execute_result"
    }
   ],
   "source": [
    "1.45346678 * 1.45346678"
   ]
  },
  {
   "cell_type": "code",
   "execution_count": null,
   "id": "c45194ce-dd1d-4fe8-b107-24234a6d6166",
   "metadata": {},
   "outputs": [],
   "source": []
  }
 ],
 "metadata": {
  "kernelspec": {
   "display_name": "Python 3 (ipykernel)",
   "language": "python",
   "name": "python3"
  },
  "language_info": {
   "codemirror_mode": {
    "name": "ipython",
    "version": 3
   },
   "file_extension": ".py",
   "mimetype": "text/x-python",
   "name": "python",
   "nbconvert_exporter": "python",
   "pygments_lexer": "ipython3",
   "version": "3.11.5"
  }
 },
 "nbformat": 4,
 "nbformat_minor": 5
}
